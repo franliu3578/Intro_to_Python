{
  "nbformat": 4,
  "nbformat_minor": 0,
  "metadata": {
    "colab": {
      "provenance": [],
      "authorship_tag": "ABX9TyOuFWgfUGK5hPzYKNyiLDdT",
      "include_colab_link": true
    },
    "kernelspec": {
      "name": "python3",
      "display_name": "Python 3"
    },
    "language_info": {
      "name": "python"
    }
  },
  "cells": [
    {
      "cell_type": "markdown",
      "metadata": {
        "id": "view-in-github",
        "colab_type": "text"
      },
      "source": [
        "<a href=\"https://colab.research.google.com/github/franliu3578/Intro_to_Python_Notes/blob/main/20241224_python_lab1~2.ipynb\" target=\"_parent\"><img src=\"https://colab.research.google.com/assets/colab-badge.svg\" alt=\"Open In Colab\"/></a>"
      ]
    },
    {
      "cell_type": "markdown",
      "source": [
        "# Python 基礎程式設計"
      ],
      "metadata": {
        "id": "xf7MPE4kT5fR"
      }
    },
    {
      "cell_type": "markdown",
      "source": [
        "```python\n",
        "第一個程式:bmi 程式\n",
        "1. 可以讓使用者自由輸入他的身高體重\n",
        "2. 幫使用者計算bmi\n",
        "3. 給使用者bmi建議\n",
        "\n",
        "1. 註解: 影響\"可讀性\"的一個重要要素\n",
        "  #xxxxxxxx\n",
        "2. 功能: 參數 print(參數)\n",
        "  !!! 就算沒有參數, 也要有小括號 xxx()\n",
        "\n",
        "3. 排版也是影響\"可讀性\"很重要的要素\n",
        "  !!! \\控一格...\n",
        "  !!! 可以參考 pep coding style\n",
        "\n",
        "4. 不要重複寫: =\n",
        "  a. 5 == 3 + 2(左右是否相等?)\n",
        "  b. x = 3(取替)\n",
        "\n",
        "5. 型態(Type):\n",
        "  a. 數字型態: 包含整數(int) 小數(float)\n",
        "  b. 字串型態(str): \"xxx\"\n",
        "  !!! 任何符號都只是一個字\n",
        "  !!! 電話: 字串\n",
        "\n",
        "6. python對於型態是非常嚴格的一種語言\n",
        "  !!! 絕對不會\"偷偷\"幫你做任何型態轉換\n",
        "  !!! 數字+數字 ok 字串+字串 ok 字串+數字(X)\n",
        "  !!! \"ab\" + \"cd\" -> \"abcd\"\n",
        "\n",
        "7. 型態轉換功能: int() float() str()\n",
        "\n",
        "8. 如果...否則(IF-ELSE)\n",
        "\n",
        "if bmi > 25:\n",
        "    print\n",
        "    print\n",
        "    print\n",
        "else:\n",
        "    print\n",
        "\n",
        "縮排排版(冒號/TAB案件)\n",
        "Elwing:\n",
        "    xxxxxx\n",
        "    xxxxx\n",
        "\n",
        "9. 讓使用者輸入的功能\n",
        "input(字串)\n",
        "\n",
        "!!! 學會了參數, 要多學會另外一件事: 回傳值\n",
        "!!! 回傳值: 做完這個功能所丟回來的\"新的\"答案(check type)\n",
        "!!! 方便記憶: 只要沒有做=設置, 值就是不會改變的\n",
        "```"
      ],
      "metadata": {
        "id": "MInkh8KVmXNZ"
      }
    },
    {
      "cell_type": "markdown",
      "source": [
        "```python\n",
        "人類使用的是數數方式叫做十進位\n",
        "0 1 2 3 4 ... 9 10 11\n",
        "\n",
        "八進位\n",
        "0 1 2 3 4 5 6 7 9 10 11 12 13\n",
        "\n",
        "電腦是二進位\n",
        "0 1 10 11 100 101 110 111 1000\n",
        "\n",
        "有限小數 -> 二進位還是有限小數(?)\n",
        "1/3 -> 0.33333333(十進位無限) -> 0.1(三進位有限)\n",
        "\n",
        "所以你再說兩個小數的相等的時候不是說他們一模一樣,而是他們誤差小於多少你就認為這兩個小數相等\n",
        "```\n"
      ],
      "metadata": {
        "id": "BcLOMk9i1uwV"
      }
    },
    {
      "cell_type": "markdown",
      "source": [
        "# 數字概念\n",
        "\n",
        "\n",
        "```\n",
        "# 此內容會顯示為程式碼\n",
        "```\n",
        "\n"
      ],
      "metadata": {
        "id": "FoJDRT0koBKv"
      }
    },
    {
      "cell_type": "code",
      "source": [
        "# BMI 計算 : weight(kg) / height(m) ^ 2\n",
        "# 體重輸入後轉成浮點數\n",
        "weight = float(input(\"請輸入體重:\"))\n",
        "# 身高輸入後轉成浮點數\n",
        "height = float(input(\"請輸入身高:\"))\n",
        "# BMI就是身高平方除以體重\n",
        "bmi = weight / (height / 100) ** 2\n",
        "# 印出輸入的體重把浮點數改成字串\n",
        "print(\"你的體重是:\" + str(weight))\n",
        "# 印出輸入的身高把浮點數改成字串\n",
        "print(\"你的高度是:\" + str(height))\n",
        "# 印出輸入的BMI是把浮點數改成字串\n",
        "print(\"bim是:\" + str(bmi))\n",
        "# 判斷如果大於25\n",
        "if bmi > 25 :\n",
        "  print('過重')\n",
        "  print('少吃多動')\n",
        "else:\n",
        "  print('正常')"
      ],
      "metadata": {
        "id": "5hABC3aopFn0",
        "outputId": "36b9de64-6abf-45bb-dd30-19ff2f18e438",
        "colab": {
          "base_uri": "https://localhost:8080/"
        }
      },
      "execution_count": null,
      "outputs": [
        {
          "output_type": "stream",
          "name": "stdout",
          "text": [
            "請輸入體重:60\n",
            "請輸入身高:161\n",
            "你的體重是:60.0\n",
            "你的高度是:161.0\n",
            "bim是:23.147255121330193\n",
            "正常\n"
          ]
        }
      ]
    },
    {
      "cell_type": "code",
      "source": [
        "import decimal\n",
        "print(3 + 3.14)\n",
        "print(decimal.Decimal(\"3\") + decimal.Decimal(\"3.14\"))"
      ],
      "metadata": {
        "id": "rWVrMCVHx1L5",
        "colab": {
          "base_uri": "https://localhost:8080/"
        },
        "outputId": "3667acc7-3970-4b07-8fb0-a78faae56d95"
      },
      "execution_count": null,
      "outputs": [
        {
          "output_type": "stream",
          "name": "stdout",
          "text": [
            "6.140000000000001\n",
            "6.14\n"
          ]
        }
      ]
    },
    {
      "cell_type": "code",
      "source": [
        "# demo 回傳值\n",
        "a = 3.6\n",
        "# a 型態轉成整數\n",
        "b = int(a)\n",
        "print(a)\n",
        "print(b)"
      ],
      "metadata": {
        "id": "PpeNtjO11_Lo",
        "colab": {
          "base_uri": "https://localhost:8080/"
        },
        "outputId": "73650fbb-9f0e-4b18-ed68-3ceff4daad4d"
      },
      "execution_count": null,
      "outputs": [
        {
          "output_type": "stream",
          "name": "stdout",
          "text": [
            "3.6\n",
            "3\n"
          ]
        }
      ]
    },
    {
      "cell_type": "code",
      "source": [
        "# 沒有=, 值就不會改\n",
        "a = 3\n",
        "# b 是改變後數值\n",
        "b = a + 2\n",
        "print(a)\n",
        "print(b)"
      ],
      "metadata": {
        "id": "N2I0_5LXQt1t",
        "colab": {
          "base_uri": "https://localhost:8080/"
        },
        "outputId": "db7c3f41-1cb7-459f-afb4-a15b3fac5b06"
      },
      "execution_count": null,
      "outputs": [
        {
          "output_type": "stream",
          "name": "stdout",
          "text": [
            "3\n",
            "5\n"
          ]
        }
      ]
    },
    {
      "cell_type": "code",
      "source": [
        "# 剪刀石頭布\n",
        "# 匯入隨機模組\n",
        "import random\n",
        "\n",
        "# 我的是輸入後把它改成整數型態\n",
        "my = int(input(\"請出拳: 0.剪刀 1.石頭 2.布\"))\n",
        "# 電腦的是隨機模組的整數, 範圍0~2\n",
        "com = random.randint(0, 2)\n",
        "# 設定這個遊戲的拳, 有三種\n",
        "trans = [\"剪刀\", \"石頭\", \"布\"]\n",
        "# 我出的是清單內的什麼值\n",
        "print (\"我出拳:\", trans[my])\n",
        "print (\"電腦出拳:\", trans[com])\n",
        "\n",
        "# >, >=, <, <=, ==\n",
        "# 電腦+1取餘3, 因為要讓循環再0~2, 如果我是電腦的下一個就贏了\n",
        "if my == (com + 1) % 3:\n",
        "  print(\"win\")\n",
        "# 我+1取餘3, 如果電腦是我的下一個就輸了\n",
        "elif com == (my + 1) %3:\n",
        "  print(\"lose\")\n",
        "# 其他都是平手\n",
        "else:\n",
        "  print(\"even\")\n",
        "\n",
        "# 如果你的縮排在這裡 甚麼時候都會印\n",
        "print(\"!!!!\")"
      ],
      "metadata": {
        "id": "za0aF0wdQ9sO",
        "colab": {
          "base_uri": "https://localhost:8080/"
        },
        "outputId": "ab4b6a79-5fdb-4275-80f7-64f55ea53596"
      },
      "execution_count": null,
      "outputs": [
        {
          "output_type": "stream",
          "name": "stdout",
          "text": [
            "請出拳: 0.剪刀 1.石頭 2.布1\n",
            "我出拳: 石頭\n",
            "電腦出拳: 布\n",
            "lose\n",
            "!!!!\n"
          ]
        }
      ]
    },
    {
      "cell_type": "code",
      "source": [
        "# key-value查詢\n",
        "s = \"abcdef\"\n",
        "s[1]\n",
        "s[5]"
      ],
      "metadata": {
        "id": "R0BTjKhZgD-2",
        "colab": {
          "base_uri": "https://localhost:8080/",
          "height": 36
        },
        "outputId": "8cb035ef-c3b6-4840-9541-f26e3532f3eb"
      },
      "execution_count": null,
      "outputs": [
        {
          "output_type": "execute_result",
          "data": {
            "text/plain": [
              "'f'"
            ],
            "application/vnd.google.colaboratory.intrinsic+json": {
              "type": "string"
            }
          },
          "metadata": {},
          "execution_count": 9
        }
      ]
    },
    {
      "cell_type": "markdown",
      "source": [
        "![截圖_2024-12-24_下午4.06.21.webp](data:image/webp;base64,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)"
      ],
      "metadata": {
        "id": "nErnYOj6tzrd"
      }
    },
    {
      "cell_type": "code",
      "source": [
        "# 作業練習: 六個數字兩種玩法 - 0 1 2 3 4 5\n",
        "# 匯入隨機模組\n",
        "import random\n",
        "\n",
        "# 我輸入0~5改型態變成整數\n",
        "# my = int(input(\"0-5:\"))\n",
        "# 電腦就是隨機的0~5\n",
        "# com = random.randint(0, 5)\n",
        "# 用清單分組, 0一組, 1一組\n",
        "# 準備一個清單, 把原本的0~5換成中文\n",
        "trans = [\"剪刀(0)\", \"石頭(0)\", \"布(0)\",\n",
        "     \"剪刀(1)\", \"石頭(1)\", \"布(1)\"]\n",
        "print(\"你出的:\", trans[my],\n",
        "   \"電腦的:\", trans[com])\n",
        "# 取商 : 分組, 取商就是整數除,又稱mod\n",
        "# 0 // 3 : 0\n",
        "# 1 // 3 : 0\n",
        "# 2 // 3 : 0\n",
        "# 3 // 3 : 1\n",
        "# 4 // 3 : 1\n",
        "# 5 // 3 : 1\n",
        "# 取餘 : 循環, 回歸到0~2\n",
        "# 0 % 3 : 0\n",
        "# 1 % 3 : 1\n",
        "# 2 % 3 : 2\n",
        "# 3 % 3 : 0\n",
        "# 4 % 3 : 1\n",
        "# 5 % 3 : 2\n",
        "\n",
        "my = 5\n",
        "com = 3\n",
        "# 第一步 先確定他們是否同組\n",
        "# 分組:取商(0-2:屬於 Group0, 3-5:屬於 Group1)\n",
        "mygroup = my // 3\n",
        "comgroup = com // 3\n",
        "# 如果同一組就執行\n",
        "if mygroup == comgroup:\n",
        "    # 取餘 : 循環, 回歸到0~2\n",
        "    my2 = my % 3\n",
        "    com2 = com % 3\n",
        "    # 確認轉換是否成功\n",
        "    # print(my, com, my2, com2)\n",
        "    # 替換名稱, 走原本剪刀石頭布的循環\n",
        "    if my2 == (com2 + 1) % 3:\n",
        "      print(\"win\")\n",
        "    elif com2 == (my2 + 1) % 3:\n",
        "      print(\"lose\")\n",
        "    else:\n",
        "      print(\"even\")\n",
        "else:\n",
        "  print(\"平手(不同組)\")"
      ],
      "metadata": {
        "id": "fcZeajubxs5j",
        "colab": {
          "base_uri": "https://localhost:8080/"
        },
        "outputId": "1acf5511-035b-45e2-f5d5-94cbc85d95df"
      },
      "execution_count": null,
      "outputs": [
        {
          "output_type": "stream",
          "name": "stdout",
          "text": [
            "你出的: 石頭(0) 電腦的: 布(0)\n",
            "lose\n"
          ]
        }
      ]
    },
    {
      "cell_type": "code",
      "source": [
        "# 補充:另一種減法方法\n",
        "2 % 3 = 2\n",
        "1 % 3 = 1\n",
        "0 % 3 = 0\n",
        "-1 % 3 = 2\n",
        "# -1除以3=-1...2  我總共收一次-3塊..要補2塊\n",
        "\n",
        "trans = [\"剪刀\", \"石頭\", \"布\"]\n",
        "my = 2\n",
        "com = 0\n",
        "# 如果我是電腦的前一個, 我就贏了\n",
        "if my == (com + 1) % 3:\n",
        "      print(\"win\")\n",
        "# 如果我是電腦的後一個, 我就輸了\n",
        "elif my == (com - 1) % 3:\n",
        "      print(\"lose\")\n",
        "else:\n",
        "      print(\"even\")"
      ],
      "metadata": {
        "colab": {
          "base_uri": "https://localhost:8080/"
        },
        "id": "4FGYcRSHFHsF",
        "outputId": "584a5ddd-7d0a-4c7d-ffa0-b7269761e993"
      },
      "execution_count": null,
      "outputs": [
        {
          "output_type": "stream",
          "name": "stdout",
          "text": [
            "lose\n"
          ]
        }
      ]
    }
  ]
}