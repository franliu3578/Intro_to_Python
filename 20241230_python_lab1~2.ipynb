{
  "nbformat": 4,
  "nbformat_minor": 0,
  "metadata": {
    "colab": {
      "provenance": [],
      "authorship_tag": "ABX9TyOpue7bJloJh7xEhkO4IiJQ",
      "include_colab_link": true
    },
    "kernelspec": {
      "name": "python3",
      "display_name": "Python 3"
    },
    "language_info": {
      "name": "python"
    }
  },
  "cells": [
    {
      "cell_type": "markdown",
      "metadata": {
        "id": "view-in-github",
        "colab_type": "text"
      },
      "source": [
        "<a href=\"https://colab.research.google.com/github/franliu3578/Intro_to_Python_Notes/blob/main/20241230_python_lab1~2.ipynb\" target=\"_parent\"><img src=\"https://colab.research.google.com/assets/colab-badge.svg\" alt=\"Open In Colab\"/></a>"
      ]
    },
    {
      "cell_type": "markdown",
      "source": [],
      "metadata": {
        "id": "KMDwG9oFdrNA"
      }
    },
    {
      "cell_type": "markdown",
      "source": [
        "# 迴圈\n",
        "\n",
        "```python\n",
        "part1. 重複n次: 從0次數到n-1次\n",
        "10: 0 1 ... 9\n",
        "\n",
        "準備一個計數器\n",
        "1. 初始化: i = 0\n",
        "2. 判斷: i < 10\n",
        "3. 增加: i = i + 1\n",
        "\n",
        "i = 0\n",
        "while i < 10:\n",
        "    print(i)\n",
        "    i = i + 1\n",
        "\n",
        "!!!好習慣: 這三行妳絕對不改\n",
        "1. 次數就在<後面\n",
        "2. 數: 0 1 ... 次-1\n",
        "\n",
        "Q1. 1 2 ... 10\n",
        "A1. i + 1\n",
        "\n",
        "Q2. 10 9 ... 1\n",
        "A2. 10 - i\n",
        "\n",
        "Q3. 1 3 5 7\n",
        "A2. 2 * i + 1\n",
        "```"
      ],
      "metadata": {
        "id": "GvHplz-6dypv"
      }
    },
    {
      "cell_type": "markdown",
      "source": [
        "```python\n",
        "i = 0\n",
        "# 當i小於10的時候, 迴圈走10次\n",
        "while i < 10:\n",
        "       # 從5開始遞增1, 5 6 7   \n",
        "    print(5 + i,\n",
        "       # 從20開始遞減1, 20 19 18\n",
        "       20 - i,\n",
        "       # 從1開始遞增2, 1 3 5\n",
        "       2 * i + 1,\n",
        "       # 從50開始遞減3, 50 47 44\n",
        "       50 - 3 * i)\n",
        "    i = i + 1\n",
        "\n",
        "# 平常的狀況\n",
        "# i = i + 1  \n",
        "```\n"
      ],
      "metadata": {
        "id": "7umZXOiSetY-"
      }
    },
    {
      "cell_type": "code",
      "source": [
        "# 靠左邊的金字塔 1 2 3 4\n",
        "height = 4\n",
        "# 左邊把金字塔分成兩個區塊, 左邊跟右邊\n",
        "lsybol, rsymbol = \"o\",\".\"\n",
        "i = 0\n",
        "# 設定你想要畫圖型的高度\n",
        "while i < height:\n",
        "  # 記住遞增左邊數量\n",
        "  lcount = i + 1\n",
        "  # 記住遞減右邊的數量\n",
        "  rcount = (height - 1)- i\n",
        "  # 把左邊遞增跟右邊遞減跟符號相乘\n",
        "  print(lsybol * lcount +\n",
        "     rsymbol * rcount)\n",
        "  i = i + 1"
      ],
      "metadata": {
        "colab": {
          "base_uri": "https://localhost:8080/"
        },
        "id": "gWM7jrQhBnhW",
        "outputId": "9c3bcddb-ebe0-433f-bdcc-2fe6befe5646"
      },
      "execution_count": null,
      "outputs": [
        {
          "output_type": "stream",
          "name": "stdout",
          "text": [
            "o...\n",
            "oo..\n",
            "ooo.\n",
            "oooo\n"
          ]
        }
      ]
    },
    {
      "cell_type": "code",
      "source": [
        "# 靠右邊的金字塔 1 2 3 4\n",
        "height = 4\n",
        "# 左邊把金字塔分成兩個區塊, 左邊跟右邊\n",
        "lsybol, rsymbol = \".\",\"o\"\n",
        "i = 0\n",
        "# 設定你想要畫圖型的高度\n",
        "while i < height:\n",
        "  # 記住遞減左邊的數量\n",
        "  lcount = (height - 1)- i\n",
        "  # 記住遞增右邊數量\n",
        "  rcount = i + 1\n",
        "  # 把左邊遞減跟右邊遞增跟符號相乘\n",
        "  print(lsybol * lcount +\n",
        "     rsymbol * rcount)\n",
        "  i = i + 1"
      ],
      "metadata": {
        "colab": {
          "base_uri": "https://localhost:8080/"
        },
        "id": "OckHu0Ywfw_B",
        "outputId": "00bce6a1-7a7b-4d10-9714-33fcb97e2cab"
      },
      "execution_count": null,
      "outputs": [
        {
          "output_type": "stream",
          "name": "stdout",
          "text": [
            "...o\n",
            "..oo\n",
            ".ooo\n",
            "oooo\n"
          ]
        }
      ]
    },
    {
      "cell_type": "markdown",
      "source": [
        "```python\n",
        "# **例題1**\n",
        "ooooooo\n",
        ".ooooo.\n",
        "..ooo..\n",
        "...o...\n",
        "```"
      ],
      "metadata": {
        "id": "wGTBwMCy-fd1"
      }
    },
    {
      "cell_type": "code",
      "source": [
        "# 倒金字塔 7 5 3 1\n",
        "height = 4\n",
        "# 金字塔分成三個區塊, 左/中/右\n",
        "lsybol, msybol ,rsymbol = \".\",\"o\",\".\"\n",
        "i = 0\n",
        "# 設定你想要畫圖型的高度\n",
        "while i < height:\n",
        "  # 右邊區塊=高度遞減1, 走迴圈\n",
        "  lcount = (i - 1) + 1\n",
        "  # 找高度跟圖案的關係, 總層數*2-1\n",
        "  mcount = ((height * 2) - 1) - 2 * i\n",
        "  rcount = (i - 1) + 1\n",
        "  # 把左右邊遞減跟中間遞增跟符號相乘\n",
        "  print(lsybol * lcount +\n",
        "     msybol * mcount +\n",
        "     rsymbol * rcount)\n",
        "  i = i + 1"
      ],
      "metadata": {
        "colab": {
          "base_uri": "https://localhost:8080/"
        },
        "id": "ohAVP_w-hzd_",
        "outputId": "825e9232-07f7-4c79-f6e5-41245e4c33f0"
      },
      "execution_count": null,
      "outputs": [
        {
          "output_type": "stream",
          "name": "stdout",
          "text": [
            "ooooooo\n",
            ".ooooo.\n",
            "..ooo..\n",
            "...o...\n"
          ]
        }
      ]
    },
    {
      "cell_type": "code",
      "source": [
        "# 倒金字塔 7 5 3 1, 奇數偶數, 交替符號先o再x\n",
        "height = 4\n",
        "i = 0\n",
        "# 設定你想要畫圖型的高度\n",
        "while i < height:\n",
        "  # 取商用來判斷奇偶數\n",
        "  # 如果是奇數設定這個符號\n",
        "  if i % 2 == 0:\n",
        "      symbols = [\".\",\"o\",\".\"]\n",
        "  # 如果是偶數設定這個符號\n",
        "  else:\n",
        "      symbols = [\".\",\"x\",\".\"]\n",
        "  # 分三個區塊, 記住遞增左邊的數量\n",
        "  lcount = i\n",
        "  # 分三個區塊, 記住遞增中邊的數量\n",
        "  mcount = ((height * 2) - 1) - 2 * i\n",
        "  # 分三個區塊, 記住遞增左邊的數量\n",
        "  rcount = i\n",
        "  # 把左中右清單符號的數量相乘\n",
        "  print(symbols[0] * lcount +\n",
        "    symbols[1] * mcount +\n",
        "    symbols[2] * rcount)\n",
        "  i = i + 1"
      ],
      "metadata": {
        "colab": {
          "base_uri": "https://localhost:8080/"
        },
        "id": "rdsgeLwaieO9",
        "outputId": "29653623-f209-412d-db89-ae46a0b5a887"
      },
      "execution_count": null,
      "outputs": [
        {
          "output_type": "stream",
          "name": "stdout",
          "text": [
            "ooooooo\n",
            ".xxxxx.\n",
            "..ooo..\n",
            "...x...\n"
          ]
        }
      ]
    },
    {
      "cell_type": "code",
      "source": [
        "# 清單金字塔, 可換符號變成萬國碼\n",
        "# symbols = [\"o\",\"x\",\"o\",\"x\"]\n",
        "# 清單設定萬國碼的內容\n",
        "symbols = [\"\\u2661\", \"\\u2660\", \"\\u2662\", \"\\u2663\"]\n",
        "# 設定圖型的高度\n",
        "height = 4\n",
        "i = 0\n",
        "# 設定你想要畫圖型的高度\n",
        "while i < height:\n",
        "    # 符號左邊右邊\n",
        "    lsymbol, rsymbol = \".\", \".\"\n",
        "    # 設定中間就是清單, 清單內的數字, 0~3循環\n",
        "    msymbol = symbols[i%len(symbols)]\n",
        "    # 分三個區塊, 記住遞增左右邊的數量\n",
        "    lcount, rcount = i, i\n",
        "    # 分三個區塊, 記住中間->7-2*i, 7=2*4-1\n",
        "    mcount = ((2 * height) - 1) - 2 * i\n",
        "    # 把左中右清單符號的數量相乘\n",
        "    print(lsymbol * lcount +\n",
        "       msymbol * mcount +\n",
        "       rsymbol * rcount)\n",
        "    i = i + 1"
      ],
      "metadata": {
        "id": "T2GsLuC-lac5",
        "colab": {
          "base_uri": "https://localhost:8080/"
        },
        "outputId": "35c85e21-493d-4506-9bee-63262eff4c7a"
      },
      "execution_count": null,
      "outputs": [
        {
          "output_type": "stream",
          "name": "stdout",
          "text": [
            "♡♡♡♡♡♡♡\n",
            ".♠♠♠♠♠.\n",
            "..♢♢♢..\n",
            "...♣...\n"
          ]
        }
      ]
    },
    {
      "cell_type": "markdown",
      "source": [
        "```python\n",
        "編碼: 我 -> 0101010101\n",
        "解碼: 01100101010 -> 我\n",
        "\n",
        "編碼和解碼(以前) 各國自行規定\n",
        "繁體中文: BIG5\n",
        "簡體中文: GBK\n",
        "\n",
        "亂碼原因: 編碼和解碼使用的不一致\n",
        "\n",
        "(現在) 全世界只有一套編碼(Unicode 萬國碼)\n",
        "我們目前使用的就只有Unicode裡面一個分支utf-8\n",
        "```"
      ],
      "metadata": {
        "id": "hgKszMo3EbjR"
      }
    },
    {
      "cell_type": "markdown",
      "source": [
        "# 迴圈第二part\n"
      ],
      "metadata": {
        "id": "1ie4WfFJEhSL"
      }
    },
    {
      "cell_type": "markdown",
      "source": [
        "```python\n",
        "有記憶體的迴圈 - 記憶體要取個名字, 放在迴圈外面\n",
        "!!! 拒絕跳躍性思考\n",
        "```"
      ],
      "metadata": {
        "id": "SmF25UDBEur6"
      }
    },
    {
      "cell_type": "code",
      "source": [
        "# 迴圈1加到10數字加總程式\n",
        "total = 0\n",
        "i = 0\n",
        "print(\"total\", \"i\")\n",
        "# 讓迴圈走10次\n",
        "while i < 10:\n",
        "  # 加總就是迴圈一直累加\n",
        "  total = total + (i+1)\n",
        "  # 最後列印總累加跟數字\n",
        "  print(total, i)\n",
        "  i = i + 1"
      ],
      "metadata": {
        "colab": {
          "base_uri": "https://localhost:8080/"
        },
        "id": "pKQqB-XxArBU",
        "outputId": "6c14674e-1dff-48c4-b4ff-2ce378b007b9"
      },
      "execution_count": null,
      "outputs": [
        {
          "output_type": "stream",
          "name": "stdout",
          "text": [
            "total i\n",
            "1 0\n",
            "3 1\n",
            "6 2\n",
            "10 3\n",
            "15 4\n",
            "21 5\n",
            "28 6\n",
            "36 7\n",
            "45 8\n",
            "55 9\n"
          ]
        }
      ]
    },
    {
      "cell_type": "code",
      "source": [
        "# 除法程式\n",
        "a, b = 2, 7\n",
        "# 先把答案字串0.加上去\n",
        "ans = \"0.\"\n",
        "i = 0\n",
        "  # 總共走10次迴圈\n",
        "  while i < 10:\n",
        "    # 2 -> 20\n",
        "    a10 = a * 10\n",
        "    # 20 // 7 取商\n",
        "    ans = ans + str(a10 // b)\n",
        "    # 20 % 7 取餘\n",
        "    a = a10 % b\n",
        "    i = i + 1\n",
        "    print(ans)"
      ],
      "metadata": {
        "id": "XCl3tqLrHzOO",
        "colab": {
          "base_uri": "https://localhost:8080/"
        },
        "outputId": "0312bc92-aa5f-4bcc-fcd1-ecc314d628e0"
      },
      "execution_count": null,
      "outputs": [
        {
          "output_type": "stream",
          "name": "stdout",
          "text": [
            "0.2\n",
            "0.28\n",
            "0.285\n",
            "0.2857\n",
            "0.28571\n",
            "0.285714\n",
            "0.2857142\n",
            "0.28571428\n",
            "0.285714285\n",
            "0.2857142857\n"
          ]
        }
      ]
    },
    {
      "cell_type": "code",
      "source": [
        "# 統計大小寫程式\n",
        "s = \"asdfsDfgvv   ,, WqrRrwqr. wQr123123rqw5tAfg\"\n",
        "# 英文大寫, 你要幫我統計出來s裡面有幾個小寫, 多少個大寫\n",
        "lowcase, upcase = 0, 0\n",
        "i = 0\n",
        "# 總字數長度取出\n",
        "while i < len(s):\n",
        "  # 轉換ACSII萬國碼變成十進位\n",
        "  num = ord(s[i])\n",
        "  # 確認大小寫的區間, 遞增各自的數量\n",
        "  if ord(\"A\") <= num <= ord(\"Z\"):\n",
        "    upcase = upcase +1\n",
        "  elif ord(\"a\") <= num <= ord(\"z\"):\n",
        "    lowcase = lowcase +1\n",
        "  i = i + 1\n",
        "  # 印出大小寫的累加數量\n",
        "print(lowcase, upcase)"
      ],
      "metadata": {
        "colab": {
          "base_uri": "https://localhost:8080/"
        },
        "id": "grKH8P9SIM0g",
        "outputId": "c9956e4a-4574-4c73-e66f-dd6e448ca920"
      },
      "execution_count": null,
      "outputs": [
        {
          "output_type": "stream",
          "name": "stdout",
          "text": [
            "23 5\n"
          ]
        }
      ]
    },
    {
      "cell_type": "code",
      "source": [
        "# 統計大小寫字母, 每個字母有幾個寫程式\n",
        "s = \"asdfsDfgvv   ,, WqrRrwqr. wQr123123rqw5tAfg\"\n",
        "# 大寫字母逐個\n",
        "upcase = [0] * 26\n",
        "# 小寫字母逐個\n",
        "lowcase = [0] * 26\n",
        "i = 0\n",
        "# 總字數長度取出\n",
        "while i < len(s):\n",
        "  # 轉換ACSII萬國碼變成十進位\n",
        "  num = ord(s[i])\n",
        "  # 確認大小寫的區間, 遞增各自的數量\n",
        "  if ord(\"A\") <= num <= ord(\"Z\"):  #65~90\n",
        "     # 把值轉換成真正的清單內容, 並累加數量\n",
        "     num = num - ord(\"A\")\n",
        "     upcase[num] = upcase[num] + 1\n",
        "  elif ord(\"a\") <= num <= ord(\"z\"):  #97~122\n",
        "     num = num - ord(\"a\")\n",
        "     lowcase[num] = lowcase[num] + 1\n",
        "  i = i + 1\n",
        "print(\"大寫A~Z各有幾個:\",upcase, \"小寫a~z各有幾個:\",lowcase)"
      ],
      "metadata": {
        "colab": {
          "base_uri": "https://localhost:8080/"
        },
        "id": "nNEsSl4Hxr9l",
        "outputId": "389d547c-90ac-4fdb-e99f-75152e62be1f"
      },
      "execution_count": 8,
      "outputs": [
        {
          "output_type": "stream",
          "name": "stdout",
          "text": [
            "大寫A~Z各有幾個: [1, 0, 0, 1, 0, 0, 0, 0, 0, 0, 0, 0, 0, 0, 0, 0, 1, 1, 0, 0, 0, 0, 1, 0, 0, 0] 小寫a~z各有幾個: [1, 0, 0, 1, 0, 3, 2, 0, 0, 0, 0, 0, 0, 0, 0, 0, 3, 5, 2, 1, 0, 2, 3, 0, 0, 0]\n"
          ]
        }
      ]
    },
    {
      "cell_type": "code",
      "source": [
        "# 統計大小字母, 逐字有幾個程式\n",
        "s = \"asdfsDfgvv   ,, WqrRrwqr. wQr123123rqw5tAfg\"\n",
        "# 大寫字母逐個\n",
        "upcase = [0] * 26\n",
        "# 小寫字母逐個\n",
        "lowcase = [0] * 26\n",
        "i = 0\n",
        "# 總字數長度取出\n",
        "while i < len(s):\n",
        "  # 轉換ACSII萬國碼變成十進位\n",
        "  num = ord(s[i])\n",
        "  if ord(\"A\") <= num <= ord(\"Z\"):  #65~90\n",
        "     num = num - ord(\"A\")\n",
        "     upcase[num] = upcase[num] + 1\n",
        "  elif ord(\"a\") <= num <= ord(\"z\"):  #97~122\n",
        "     num = num - ord(\"a\")\n",
        "     lowcase[num] = lowcase[num] + 1\n",
        "  i = i + 1\n",
        "# 分行輸出\n",
        "print(\"大寫A~Z各有幾個:\",upcase)\n",
        "print(\"小寫a~z各有幾個:\",lowcase)"
      ],
      "metadata": {
        "colab": {
          "base_uri": "https://localhost:8080/"
        },
        "id": "33KL_ZbJ2I1t",
        "outputId": "167547ff-1d1e-490b-9fa0-d3f4d1b1896a"
      },
      "execution_count": 9,
      "outputs": [
        {
          "output_type": "stream",
          "name": "stdout",
          "text": [
            "大寫A~Z各有幾個: [1, 0, 0, 1, 0, 0, 0, 0, 0, 0, 0, 0, 0, 0, 0, 0, 1, 1, 0, 0, 0, 0, 1, 0, 0, 0]\n",
            "小寫a~z各有幾個: [1, 0, 0, 1, 0, 3, 2, 0, 0, 0, 0, 0, 0, 0, 0, 0, 3, 5, 2, 1, 0, 2, 3, 0, 0, 0]\n"
          ]
        }
      ]
    },
    {
      "cell_type": "code",
      "source": [
        "# 統計大小字母, 逐字有幾個程式\n",
        "i = 0\n",
        "# 讓迴圈總共執行26次\n",
        "while i < len(upcase):\n",
        "  # 將萬國碼ASCII轉換回原本的英文內容\n",
        "  c1, c2 = chr(i + ord(\"A\")), chr(i + ord(\"a\"))\n",
        "  # 設定累加數量清單\n",
        "  n1, n2 = upcase[i], lowcase[i]\n",
        "  i = i + 1\n",
        "  print(c1, \":\", n1,\"/\", c2, \":\",n2)"
      ],
      "metadata": {
        "colab": {
          "base_uri": "https://localhost:8080/"
        },
        "id": "nfYfTs7D4e22",
        "outputId": "6a06cf0c-3942-4dcf-a874-e6a2ce40a9ac"
      },
      "execution_count": null,
      "outputs": [
        {
          "output_type": "stream",
          "name": "stdout",
          "text": [
            "A : 1 / a : 1\n",
            "B : 0 / b : 0\n",
            "C : 0 / c : 0\n",
            "D : 1 / d : 1\n",
            "E : 0 / e : 0\n",
            "F : 0 / f : 3\n",
            "G : 0 / g : 2\n",
            "H : 0 / h : 0\n",
            "I : 0 / i : 0\n",
            "J : 0 / j : 0\n",
            "K : 0 / k : 0\n",
            "L : 0 / l : 0\n",
            "M : 0 / m : 0\n",
            "N : 0 / n : 0\n",
            "O : 0 / o : 0\n",
            "P : 0 / p : 0\n",
            "Q : 1 / q : 3\n",
            "R : 1 / r : 5\n",
            "S : 0 / s : 2\n",
            "T : 0 / t : 1\n",
            "U : 0 / u : 0\n",
            "V : 0 / v : 2\n",
            "W : 1 / w : 3\n",
            "X : 0 / x : 0\n",
            "Y : 0 / y : 0\n",
            "Z : 0 / z : 0\n"
          ]
        }
      ]
    },
    {
      "cell_type": "markdown",
      "source": [
        "![image.png](data:image/png;base64,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)"
      ],
      "metadata": {
        "id": "jv6YWZ07IsmS"
      }
    },
    {
      "cell_type": "code",
      "source": [
        "# 圓面積的切割計算程式\n",
        "\n",
        "# x的最左邊座標和右邊座標\n",
        "x_left, x_right = -1, 1\n",
        "# 分成幾分(100)\n",
        "part = 10000000\n",
        "# 每一part的x多長\n",
        "interval = (x_right - x_left) / part\n",
        "\n",
        "# 總面積\n",
        "total = 0\n",
        "# 積分法: 把每一part的面積(小長方形)加總起來\n",
        "i = 0\n",
        "while i < part:\n",
        "  # 每一part的左x左標:-1 + 0.02 * i\n",
        "  x = x_left + interval * i\n",
        "  # 算出這裡的y座標多長:2 * (1 - x ^ 2) ^ 0.5\n",
        "  y = 2 * (1 - x ** 2) ** 0.5\n",
        "  # 每一part面積\n",
        "  area = interval * y\n",
        "  # 把每一part累積近去\n",
        "  total = total + area\n",
        "  i = i + 1\n",
        "print(\"積分法估算面積:\", total)"
      ],
      "metadata": {
        "colab": {
          "base_uri": "https://localhost:8080/"
        },
        "id": "E5SiSj01QgWg",
        "outputId": "25044fa0-a212-40d5-d64c-5290b310d647"
      },
      "execution_count": null,
      "outputs": [
        {
          "output_type": "stream",
          "name": "stdout",
          "text": [
            "積分法估算面積: 3.1415926534847225\n"
          ]
        }
      ]
    }
  ]
}